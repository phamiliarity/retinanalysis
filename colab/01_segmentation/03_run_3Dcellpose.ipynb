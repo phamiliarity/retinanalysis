{
  "cells": [
    {
      "cell_type": "markdown",
      "metadata": {
        "id": "5Pcq3axf9hHw"
      },
      "source": [
        "# Description\n",
        "*author:* Vina My Pham<br>\n",
        "*supervisor:* Robin van der Weide<br>\n",
        "*project:* MSc internship project<br>\n",
        "<br>\n",
        "*date:* January 15 - July 19, 2024<br>\n",
        "*host:* Kind group, Hubrecht Institute<br>\n",
        "*university:* Bioinformatics, Wageningen University & Research<br>\n",
        "\n",
        "---\n",
        "Notebook to run Cellpose3D on a stack.\n",
        "\n",
        "Input:\n",
        "- (requirements.txt for installing Cellpose and dependencies using `pip`.)\n",
        "- A TIFF file of the stack.\n",
        "- Path to the output directory\n",
        "\n",
        "Output:\n",
        "- A TIFF file of the Cellpose predictions\n",
        "\n"
      ]
    },
    {
      "cell_type": "markdown",
      "metadata": {
        "id": "YdU_goOAXPys"
      },
      "source": [
        "# Notebook initialisation\n",
        "**Description:** This block contains the code for the set-up of the notebook.\n",
        "1. installing cellpose\n",
        "2. mounting the notebook to the Drive and imports\n",
        "3. loading custom functions\n",
        "4. checking GPU status\n",
        "\n",
        "\n"
      ]
    },
    {
      "cell_type": "code",
      "source": [
        "#@markdown [mounting the notebook to the drive]\n",
        "from google.colab import drive\n",
        "drive.mount('/content/gdrive')#, force_remount=True)\n"
      ],
      "metadata": {
        "cellView": "form",
        "id": "_zS_jgG1_RhU"
      },
      "execution_count": null,
      "outputs": []
    },
    {
      "cell_type": "code",
      "source": [
        "#@markdown [Installing Cellpose and dependencies using pip and a `requirements.txt` file]<br>\n",
        "#@markdown [runtime: ~3min]\n",
        "\n",
        "pip_requirements_path = \"/content/gdrive/MyDrive/msc-internship_HI_2024_vmp/01_notebooks/colab_requirements.txt\" #@param {type:\"string\"}\n",
        "\n",
        "!pip install -r \"$pip_requirements_path\"\n",
        "print(\"Succesfully installed requirements with pip\")\n",
        "\n",
        "\n"
      ],
      "metadata": {
        "cellView": "form",
        "id": "lS0xpdfc-kxK"
      },
      "execution_count": null,
      "outputs": []
    },
    {
      "cell_type": "code",
      "source": [
        "# #@markdown [imports]\n",
        "from datetime import datetime\n",
        "print(f\"{datetime.now()}\\tImporting packages\")\n",
        "\n",
        "import os, sys, json, copy\n",
        "from pprint import pprint\n",
        "import skimage.io\n",
        "import tifffile as tif\n",
        "\n",
        "import numpy as np\n",
        "import matplotlib.pyplot as plt\n",
        "\n",
        "from cellpose import models, plot, utils\n",
        "from cellpose.io import masks_flows_to_seg\n",
        "\n",
        "print(f\"{datetime.now()}\\tFinished importing packages\")\n",
        "\n",
        "# #@markdown [custom functions]\n",
        "print(f\"{datetime.now()}\\tLoading functions\")\n",
        "#_output\n",
        "def write_json(parameters: dict, save_dir: str,\n",
        "               output_name: str = \".model_params.JSON\",\n",
        "               overwrite=False, verbose=True) -> str:\n",
        "    \"\"\"Write settings to a JSON file\n",
        "\n",
        "    Args:\n",
        "        parameters (dict): Settings to be written to the JSON file\n",
        "        save_dir (str): The directory path where the JSON file will be saved\n",
        "        output_name (str): name of output file. Default: \".model_params.JSON\"\n",
        "        overwrite (bool, optional): Overwrite if file exists. Default: False\n",
        "        verbose (bool, optional): Print verbose. Default: True\n",
        "\n",
        "    Returns:\n",
        "        str: The path where the JSON file was saved\n",
        "\n",
        "    Raises:\n",
        "        FileExistsError: If a file with `output_name` in `save_dir` already\n",
        "                         exists, and `overwrite` is set to False\n",
        "    \"\"\"\n",
        "    if os.path.exists(save_dir) == False:\n",
        "      os.makedirs(save_dir)\n",
        "\n",
        "    json_path = os.path.join(save_dir, output_name)\n",
        "\n",
        "    if os.path.exists(json_path) and not overwrite:\n",
        "        raise FileExistsError(f\"File '{json_path}' exists and `overwrite` has\" +\n",
        "                              f\" been set to {overwrite}\")\n",
        "\n",
        "    with open(json_path, 'w') as outfile_obj:\n",
        "        json.dump(parameters, outfile_obj, indent=4)\n",
        "\n",
        "    if verbose:\n",
        "        print(f\"All settings written to {json_path}\")\n",
        "\n",
        "    return json_path\n",
        "\n",
        "#_ visualisation\n",
        "def show_all_planes(stack_array: np.array, plot_channel: int, zstep: int = 1,\n",
        "                    ncols: int = 7, masks: np.array = None,\n",
        "                    outline_color: str = 'r', outline_width: float = 1.2,\n",
        "                    figsize: tuple[int, int] = (15, 30)) -> None:\n",
        "    \"\"\"wrapper for show_planes() to plot all planes\n",
        "    \"\"\"\n",
        "    nplanes=stack_array.shape[0]\n",
        "    min = 0\n",
        "    while True:\n",
        "        max = min + ncols*zstep\n",
        "        if max > nplanes+zstep*ncols: break\n",
        "        plotrange = np.arange(min,max,zstep,int)\n",
        "        show_planes(stack_array, plot_channel, plotrange, zstep, ncols, masks,\n",
        "                    outline_color, outline_width, figsize)\n",
        "        min = max\n",
        "\n",
        "    return None\n",
        "\n",
        "def show_planes(stack_array: np.array, plot_channel: int, planerange: list[int],\n",
        "                zstep: int = 1, ncols: int = 7, masks: np.array = None,\n",
        "                outline_color: str = 'r', outline_width: float = 1.2,\n",
        "                figsize: tuple[int, int] = (15, 30)) -> plt.figure:\n",
        "    \"\"\"Visualise the planes of a stack and their masks (optional)\n",
        "\n",
        "    Args:\n",
        "        stack_array (np.array): 3D stack array\n",
        "        plot_channel (int): Channel to plot\n",
        "        planerange (list of ints): Range of planes to plot\n",
        "        zstep (int): Step size along the z-axis (default: 1)\n",
        "        ncols (int): Number of columns for subplots (default: 7)\n",
        "        masks (np.array, optional): 3D mask array. If provided, outlines of the\n",
        "                                    masks will be plotted.\n",
        "        outline_color (str): Color of the outlines (default: 'r'; red)\n",
        "        linewidth (float): Width of the outline lines\n",
        "        figsize (tuple of 2 ints): Figure size (width, height)\n",
        "\n",
        "    Returns:\n",
        "        fig (matplotlib.figure.Figure): Matplotlib figure object\n",
        "\n",
        "    Notes:\n",
        "        uses modules: numpy, matplotlib, cellpose.plot, cellpose.utils, copy\n",
        "    \"\"\"\n",
        "    if len(planerange) == 1:\n",
        "        raise ValueError(f\"use `show_single()` for one plane.\")\n",
        "        return None\n",
        "\n",
        "    #img = np.transpose(stack_array, (plane_id, channel_id, y_id, x_id))\n",
        "    img = stack_array #assuming its in order plane-channel-y-x\n",
        "\n",
        "    fig, axes = plt.subplots(1, ncols, figsize=figsize)\n",
        "\n",
        "    for i, iplane in enumerate(planerange):\n",
        "        try:\n",
        "            img0 = img[iplane, :, :, plot_channel]\n",
        "            axes[i].imshow(img0, cmap=plt.cm.gray)\n",
        "\n",
        "            if isinstance(masks, np.ndarray):\n",
        "                outlines = utils.outlines_list(masks[iplane, :, :])\n",
        "                for o in outlines:\n",
        "                    axes[i].plot(o[:, 0], o[:, 1], color=outline_color,\n",
        "                                 linewidth=outline_width)\n",
        "            axes[i].axis(\"off\")\n",
        "            axes[i].set_title(f\"plane {iplane}\", size=10)\n",
        "\n",
        "        except IndexError: #plot black when all planes have been plotted\n",
        "            imgout = copy.deepcopy(img0)\n",
        "            imgout[imgout != 0] = 0\n",
        "            axes[i].imshow(imgout)\n",
        "\n",
        "            axes[i].set_title(f\"plane {iplane}\", size=10)\n",
        "            axes[i].axis(\"off\")\n",
        "\n",
        "    plt.tight_layout()\n",
        "    plt.show()\n",
        "\n",
        "    return fig\n",
        "\n",
        "def show_single(stack_array: np.array, planerange: list[int],\n",
        "                plot_channel: int,  figsize: tuple[int,int] = (5,5),\n",
        "                masks: np.array = None, outline_color: str = 'r',\n",
        "                outline_width: float = 1.2, save: bool or str = False) -> None:\n",
        "    \"\"\"Plot individual plane(s) with mask outlines\n",
        "\n",
        "    Args:\n",
        "        stack_array (np.array): 3D stack array\n",
        "        plot_channel (int): Channel to plot (0-based)\n",
        "        masks (np.array, optional): 3D mask array. If provided, mask outlines\n",
        "                                    will be plotted.\n",
        "        outline_color (str): Color of the outlines\n",
        "        outline_width (float): Width of the outline lines\n",
        "        save (bool or str): If True, save the image(s) in working directory.\n",
        "                            If string, directory path to save images to.\n",
        "                            (default: False)\n",
        "\n",
        "    Returns:\n",
        "        None\n",
        "    \"\"\"\n",
        "    #img = np.transpose(stack_array, (plane_id, y_id, x_id, channel_id))\n",
        "    img = stack_array #assuming its in order plane-y-x-channel\n",
        "\n",
        "    for iplane in planerange:\n",
        "        img0 = img[iplane, :, :, plot_channel]\n",
        "        plt.figure(figsize=figsize)\n",
        "        plt.imshow(img0, cmap=plt.cm.gray)\n",
        "\n",
        "        if isinstance(masks, np.ndarray):\n",
        "            outlines = utils.outlines_list(masks[iplane, :, :])\n",
        "            for o in outlines:\n",
        "                plt.plot(o[:, 0], o[:, 1], color=outline_color,\n",
        "                         linewidth=outline_width)\n",
        "\n",
        "        plt.title(f\"plane {iplane}\", size=10)\n",
        "        plt.axis(\"off\")\n",
        "\n",
        "        if save:\n",
        "            if isinstance(save, str):\n",
        "                plt.savefig(f\"{save}/plane{iplane}.png\")\n",
        "            else:\n",
        "                plt.savefig(f\"plane{iplane}.png\")\n",
        "\n",
        "        plt.show();\n",
        "\n",
        "print(f\"{datetime.now()}\\tFinished loading functions\")"
      ],
      "metadata": {
        "id": "MKk6gWWPpcIX"
      },
      "execution_count": null,
      "outputs": []
    },
    {
      "cell_type": "code",
      "execution_count": null,
      "metadata": {
        "id": "32ZleuwMkZhe",
        "cellView": "form"
      },
      "outputs": [],
      "source": [
        "#@markdown ###GPU status\n",
        "#@markdown *Note: To change hardware type: `Runtime` >> `Change runtime type` >> `Hardware accelerator`*\n",
        "def check_gpu_connection(use_gpu: bool) -> None:\n",
        "    \"\"\"Reports the details on GPU connection\n",
        "\n",
        "    Args:\n",
        "        use_gpu (bool): Whether to use the GPU for the script\n",
        "\n",
        "    Returns:\n",
        "        None\n",
        "\n",
        "    Raises:\n",
        "        GPUConnectionError: If the runtime type does not match the connection\n",
        "        settings\n",
        "    \"\"\"\n",
        "    from cellpose import core\n",
        "    class GPUConnectionError(Exception):\n",
        "        def __init__(self, message):\n",
        "            self.message = message\n",
        "\n",
        "    if core.use_gpu() != use_gpu:\n",
        "      raise GPUConnectionError(f\"Connection type (`{core.use_gpu()}`) does \" +\n",
        "                               f\"not match connection settings (`{use_gpu}`).\"+\n",
        "                               \"\\nPlease check the hardware type in the Colab\"+\n",
        "                               \" Notebook settings.\")\n",
        "\n",
        "    if core.use_gpu():\n",
        "      !nvidia-smi\n",
        "\n",
        "    return None\n",
        "\n",
        "use_gpu = False #@param {type:\"boolean\"}\n",
        "print(f\"GPU usage enabled? {use_gpu}\")\n",
        "check_gpu_connection(use_gpu)"
      ]
    },
    {
      "cell_type": "markdown",
      "metadata": {
        "id": "VX8KsN1Oj36x"
      },
      "source": [
        "## Custom classes/functions"
      ]
    },
    {
      "cell_type": "markdown",
      "metadata": {
        "id": "OxrDHpS3kPXT"
      },
      "source": [
        "## (Re)start session"
      ]
    },
    {
      "cell_type": "markdown",
      "metadata": {
        "id": "GS5XeBMDndso"
      },
      "source": [
        "**Provide output directory**.\n",
        "\n",
        "If the directory does not exist, the stored settings from the `.model_params.JSON` file will be loaded in.<br>\n",
        "(If the JSON file does not exist, a new session will start.)\n",
        "\n",
        "If the directory does not exist, it will be made and a new session will start.\n"
      ]
    },
    {
      "cell_type": "code",
      "execution_count": null,
      "metadata": {
        "cellView": "form",
        "id": "rn9MfS4BkTEY"
      },
      "outputs": [],
      "source": [
        "session_dir = \"/content/gdrive/MyDrive/msc-internship_HI_2024_vmp/02_results/04_cellpose3D/test\" #@param {type:\"string\"}\n",
        "session_dir = os.path.join(session_dir, \"\")\n",
        "\n",
        "new_session = True\n",
        "if os.path.exists(session_dir):\n",
        "    print(f\"{datetime.now()}\\tDirectory exists.\")\n",
        "    if os.path.exists(f\"{session_dir}/.model_params.JSON\"):\n",
        "        print(f\"{datetime.now()}\\t.model_params.JSON file found. Previous settings will be loaded in.\")\n",
        "        new_session = False\n",
        "    else: print(f\"{datetime.now()}\\tNo .model_params.JSON found in the directory.\\nA new session will start.\")\n",
        "else:\n",
        "    os.makedirs(session_dir)\n",
        "    print(f\"{datetime.now()}\\tDirectory does not exist. New session will start.\")"
      ]
    },
    {
      "cell_type": "markdown",
      "metadata": {
        "id": "YSQCA9DuXAi_"
      },
      "source": [
        "# Image loading\n"
      ]
    },
    {
      "cell_type": "code",
      "source": [
        "#@markdown [code: loading in stack file]\n",
        "stack_img_path = \"/content/gdrive/MyDrive/msc-internship_HI_2024_vmp/00_raw_data/full_zstacks/sub/SPE_20230327_D25_x600-850_y550-800.tif\" #@param {type:\"string\"}\n",
        "stack_array = skimage.io.imread(stack_img_path)\n",
        "file_name = stack_img_path.split(\"/\")[-1]\n",
        "print(\"file name: \", file_name)\n",
        "print(\"Stack has shape: \", stack_array.shape)\n",
        "print(\"\\tid\\tvalue\")\n",
        "for idx, val in enumerate(stack_array.shape):\n",
        "    print(f\"\\t{idx}\\t{val}\")"
      ],
      "metadata": {
        "id": "N1qavLWGiPdB"
      },
      "execution_count": null,
      "outputs": []
    },
    {
      "cell_type": "markdown",
      "metadata": {
        "id": "VZaMq-2zf-vP"
      },
      "source": [
        "**Indicate the planes (Z), channels, and X- and Y- data**"
      ]
    },
    {
      "cell_type": "code",
      "execution_count": null,
      "metadata": {
        "id": "xLIsIPYelctx",
        "cellView": "form"
      },
      "outputs": [],
      "source": [
        "##@markdown Reshape the array if shape does not correspond to `nplanes x channels x nY x nX`<br>\n",
        "##@markdown *note: if stack created using singletiffs2stack():*<br>\n",
        "##@markdown &emsp;&emsp; `plane_id` = 0<br>\n",
        "##@markdown &emsp;&emsp; `channel_id` = 3<br>\n",
        "##@markdown &emsp;&emsp; `y_id` = 1<br>\n",
        "##@markdown &emsp;&emsp; `x_id` = 2<br>\n",
        "\n",
        "plane_id = 0 #@param {type:\"integer\"}\n",
        "channel_id = 3 #@param {type:\"integer\"}\n",
        "y_id = 1 #@param {type:\"integer\"}\n",
        "x_id = 2 #@param {type:\"integer\"}"
      ]
    },
    {
      "cell_type": "markdown",
      "source": [
        "## Showing the middle plane"
      ],
      "metadata": {
        "id": "4BSX27fH9ljX"
      }
    },
    {
      "cell_type": "code",
      "source": [
        "print(\"Showing middle plane...\")\n",
        "iplane_middle = round(stack_array.shape[plane_id]/2)\n",
        "show_single(stack_array, plot_channel = 1, planerange = [iplane_middle])"
      ],
      "metadata": {
        "id": "BXz7PGnx9nSW"
      },
      "execution_count": null,
      "outputs": []
    },
    {
      "cell_type": "markdown",
      "metadata": {
        "id": "5P0fBC5yy8GF"
      },
      "source": [
        "### Initialise a session with a model\n",
        "This block can be skipped if a previous session is resumed.<br>\n",
        "An error will be raised if a `.model_params.JSON` file from a previous session had been detected."
      ]
    },
    {
      "cell_type": "code",
      "execution_count": null,
      "metadata": {
        "id": "gdaQyuXQY4WR",
        "cellView": "form"
      },
      "outputs": [],
      "source": [
        "if not new_session:\n",
        "    raise IOError(\"Settings from a previous session are loaded in. \"+\n",
        "                  \"Any input provided here will be ignored.\")\n",
        "\n",
        "#@markdown **Model path input**\n",
        "model_type = \"\" #@param {type:\"string\"}\n",
        "pretrained_model = \"/content/gdrive/MyDrive/msc-internship_HI_2024_vmp/02_results/03_finetuning/run_week07/run03_20240306-094709/models/cyto2_trained-on-d25z30-d30z43-d40z58-d35z15\" #@param {type:\"string\"}\n",
        "\n",
        "#Check model settings\n",
        "if len(model_type) > 0 and len(pretrained_model) > 0:\n",
        "    raise IOError(\"Input for both `model_type` and `pretrained_model` are provided. Please choose one.\")\n",
        "elif len(model_type) > 0:\n",
        "    pretrained_model = None\n",
        "    print(f\"Loading in the pre-trained model `{model_type}`\")\n",
        "elif len(pretrained_model) > 0:\n",
        "    model_type = None\n",
        "    print(f\"Loading in the custom model `{pretrained_model.split('/')[-1]}`\")\n",
        "else:\n",
        "    raise IOError(\"No model input found. Please provide a name or path in `model_type` or `pretrained_model`.\")\n",
        "\n",
        "#@markdown **Model settings:**\n",
        "gpu = True #@param {type:\"boolean\"}\n",
        "net_avg = True #@param {type:\"boolean\"}\n",
        "diam_mean = 30.0 #@param {type:\"number\"}\n",
        "device = None #@param {type:\"raw\"}\n",
        "residual_on = True #@param {type:\"boolean\"}\n",
        "style_on = True #@param {type:\"boolean\"}\n",
        "concatenation = False #@param {type:\"boolean\"}\n",
        "nchan = 2 #@param {type:\"integer\"}\n",
        "\n",
        "#writing to JSON file\n",
        "model_args = {\n",
        "        \"model_type\": model_type,\n",
        "        \"pretrained_model\": pretrained_model,\n",
        "        \"gpu\": gpu,\n",
        "        \"net_avg\": net_avg,\n",
        "        \"diam_mean\": diam_mean,\n",
        "        \"device\": device,\n",
        "        \"residual_on\": residual_on,\n",
        "        \"style_on\": style_on,\n",
        "        \"concatenation\": concatenation,\n",
        "        \"nchan\": nchan\n",
        "    }\n",
        "\n",
        "_ = write_json(model_args, session_dir, verbose=True, overwrite=True)\n"
      ]
    },
    {
      "cell_type": "markdown",
      "metadata": {
        "id": "-lYjsCa72VsV"
      },
      "source": [
        "### Loading model"
      ]
    },
    {
      "cell_type": "code",
      "execution_count": null,
      "metadata": {
        "cellView": "form",
        "id": "hwJTrr-Wxuas"
      },
      "outputs": [],
      "source": [
        "#@markdown [code: displaying model settings]\n",
        "print(\"The following model will loaded in.\")\n",
        "\n",
        "if not new_session:\n",
        "    print(\"[from previous session]\")\n",
        "    with open(f'{session_dir}.model_params.JSON') as json_file:\n",
        "        model_args = json.load(json_file)\n",
        "\n",
        "pprint(model_args)"
      ]
    },
    {
      "cell_type": "code",
      "execution_count": null,
      "metadata": {
        "cellView": "form",
        "id": "-CuW_tAYs3By"
      },
      "outputs": [],
      "source": [
        "#@markdown [code: models.CellposeModel stored as `model`]\n",
        "model = models.CellposeModel(\n",
        "    gpu=model_args.get('gpu', False),\n",
        "    pretrained_model=model_args.get('pretrained_model', False),\n",
        "    model_type=model_args.get('model_type', None),\n",
        "    net_avg=model_args.get('net_avg', True),\n",
        "    diam_mean=model_args.get('diam_mean', 30.0),\n",
        "    device=model_args.get('device', None),\n",
        "    residual_on=model_args.get('residual_on', True),\n",
        "    style_on=model_args.get('style_on', True),\n",
        "    concatenation=model_args.get('concatenation', False),\n",
        "    nchan=model_args.get('nchan', 2)\n",
        "    )\n",
        "\n",
        "model.gpu = model_args.get('gpu', False)\n",
        "model.diam_mean = model_args.get('diam_mean', 30.0)\n",
        "print(\"loaded model\", model.pretrained_model)"
      ]
    },
    {
      "cell_type": "markdown",
      "metadata": {
        "id": "ptyKzBOB3F9e"
      },
      "source": [
        "# Running Cellpose"
      ]
    },
    {
      "cell_type": "code",
      "execution_count": null,
      "metadata": {
        "cellView": "form",
        "id": "5vQXaPjOwqr_"
      },
      "outputs": [],
      "source": [
        "#@markdown [**Showing the channels of the centre plane**]\n",
        "single_plane_id = round(stack_array.shape[0]/2)\n",
        "single_plane = stack_array[single_plane_id,:,:,:]\n",
        "\n",
        "fig, axes = plt.subplots(1,single_plane.shape[channel_id-1])\n",
        "for idx in range(single_plane.shape[channel_id-1]):\n",
        "    if channel_id == 1: axes[idx].imshow(single_plane[idx,:,:], cmap = plt.cm.gray)\n",
        "    if channel_id == 2: axes[idx].imshow(single_plane[:,idx,:], cmap = plt.cm.gray)\n",
        "    if channel_id == 3: axes[idx].imshow(single_plane[:,:,idx], cmap = plt.cm.gray)\n",
        "    axes[idx].set_title(f\"Channel {idx+1}\")\n",
        "    axes[idx].axis(\"off\")\n",
        "plt.suptitle(f\"Plane {single_plane_id}\", y=0.79, weight='bold')\n",
        "plt.tight_layout()\n",
        "plt.show();"
      ]
    },
    {
      "cell_type": "markdown",
      "metadata": {
        "id": "ADXK4PZKqr04"
      },
      "source": [
        "# Running `model.eval` - 3D flows from 3D masks\n",
        "- stack stored in `stack_array`\n",
        "\n",
        "if do_3D == True:\n",
        "    following settings are not used:\n",
        "    - interp\n",
        "    - flow_threshold\n",
        "    - stitch_threshold"
      ]
    },
    {
      "cell_type": "code",
      "source": [
        "#@markdown **model settings**\n",
        "channels = [2,0] #@param {type:\"raw\"}\n",
        "diameter = 30.0 #@param {type:\"number\"}\n",
        "batch_size = 16 #@param {type:\"number\"}\n",
        "\n",
        "#@markdown **3D segmentation settings**\n",
        "do_3D = False #@param {type:\"boolean\"}\n",
        "anisotropy = 0 #@param {type:\"number\"}\n",
        "stitch_threshold = 0.5 #@param {type:\"number\"}"
      ],
      "metadata": {
        "cellView": "form",
        "id": "wXNH8m06GhdH"
      },
      "execution_count": null,
      "outputs": []
    },
    {
      "cell_type": "code",
      "execution_count": null,
      "metadata": {
        "id": "hjZmfXDOY6Er",
        "cellView": "form"
      },
      "outputs": [],
      "source": [
        "#@markdown [code: custom run_args]\n",
        "save_as_segnpy=False #@param {type:\"boolean\"}\n",
        "\n",
        "print(\"stack shape: \", stack_array.shape)\n",
        "print()\n",
        "run_args = {\n",
        "    \"batch_size\": batch_size,\n",
        "    \"channels\": channels,\n",
        "    \"channel_axis\": channel_id,\n",
        "    \"z_axis\": plane_id,\n",
        "    \"diameter\" : diameter,\n",
        "    \"do_3D\" : False,\n",
        "    \"anisotropy\": 0.59,\n",
        "    \"stitch_threshold\" : 0.5\n",
        "}\n",
        "mode ={True : \"3dflows\", False : \"stitched2dmasks\"}[run_args.get(\"do_3D\", False)]\n",
        "print(\"mode: \", mode)\n",
        "\n",
        "pprint(run_args)\n",
        "print()\n",
        "\n",
        "_ = write_json(run_args, session_dir, output_name=f\".model.eval_{mode}.json\", verbose=True, overwrite=True)"
      ]
    },
    {
      "cell_type": "code",
      "execution_count": null,
      "metadata": {
        "id": "AwABoWKzY6Es"
      },
      "outputs": [],
      "source": [
        "#@markdown [code: model.eval]\n",
        "print(datetime.now(),\"\\trunning model.eval\")\n",
        "masks, flows, _ = model.eval(\n",
        "    stack_array,\n",
        "    batch_size=run_args.get(\"batch_size\", 8),\n",
        "    channels=run_args.get(\"channels\", None),\n",
        "    channel_axis=run_args.get(\"channel_axis\", None),\n",
        "    z_axis=run_args.get(\"z_axis\", None),\n",
        "    normalize=run_args.get(\"normalize\", True),\n",
        "    invert=run_args.get(\"invert\", False),\n",
        "    rescale=run_args.get(\"rescale\", None),\n",
        "    diameter=run_args.get(\"diameter\", None),\n",
        "    do_3D=run_args.get(\"do_3D\", False),\n",
        "    anisotropy=run_args.get(\"anisotropy\", None),\n",
        "    stitch_threshold=run_args.get(\"stitch_threshold\", None),\n",
        "    net_avg=run_args.get(\"net_avg\", True),\n",
        "    augment=run_args.get(\"augment\", False),\n",
        "    tile=run_args.get(\"tile\", True),\n",
        "    tile_overlap=run_args.get(\"tile_overlap\", 0.1),\n",
        "    resample=run_args.get(\"resample\", True),\n",
        "    compute_masks=run_args.get(\"compute_masks\", True),\n",
        "    min_size=run_args.get(\"min_size\", 15),\n",
        "    progress=run_args.get(\"progress\", True),\n",
        "    loop_run=run_args.get(\"loop_run\", False),\n",
        "    model_loaded=run_args.get(\"model_loaded\", True)\n",
        ")\n",
        "\n",
        "print(datetime.now(),\"\\tsaving segmentations...\")\n",
        "file_name = f\"{session_dir}/3D_masks_mode-{mode}\"\n",
        "if save_as_segnpy:\n",
        "    masks_flows_to_seg(\n",
        "        stack_array, masks, flows, run_args.get('diameter', None),\n",
        "        file_name, run_args.get('channels', [0, 0])\n",
        "        )\n",
        "else:\n",
        "    outfile_name = file_name+\".tiff\"\n",
        "    tif.imwrite(outfile_name, masks, bigtiff=True)\n",
        "\n",
        "print(datetime.now(),f\"\\t3D masks saved as {file_name}.\")\n",
        "print()"
      ]
    },
    {
      "cell_type": "markdown",
      "metadata": {
        "id": "gNQCKZLKYj3m"
      },
      "source": [
        "# Visualisation of segmentations"
      ]
    },
    {
      "cell_type": "code",
      "source": [
        "#@markdown **plot parameters**\n",
        "plot_channel = 1 #@param {type:\"number\"}\n",
        "figsize = (15, 30) #@param {type:\"raw\"}\n",
        "\n",
        "stack_array = stack_array\n",
        "masks = masks\n",
        "\n",
        "show_all_planes(stack_array = stack_array,\n",
        "                plot_channel = plot_channel,\n",
        "                masks = masks,\n",
        "                figsize = figsize)"
      ],
      "metadata": {
        "cellView": "form",
        "id": "7g95LdVkGQQ8"
      },
      "execution_count": null,
      "outputs": []
    }
  ],
  "metadata": {
    "colab": {
      "provenance": []
    },
    "kernelspec": {
      "display_name": "Python 3",
      "name": "python3"
    },
    "language_info": {
      "name": "python"
    }
  },
  "nbformat": 4,
  "nbformat_minor": 0
}
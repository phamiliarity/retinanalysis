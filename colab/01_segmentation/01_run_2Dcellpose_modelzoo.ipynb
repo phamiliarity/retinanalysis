{
  "cells": [
    {
      "cell_type": "markdown",
      "metadata": {
        "id": "5Pcq3axf9hHw"
      },
      "source": [
        "# Description\n",
        "*author:* Vina My Pham<br>\n",
        "*supervisor:* Robin van der Weide<br>\n",
        "*project:* MSc internship project<br>\n",
        "<br>\n",
        "*date:* January 15 - July 26, 2024<br>\n",
        "*host:* Kind group, Hubrecht Institute<br>\n",
        "*university:* Bioinformatics, Wageningen University & Research<br>\n",
        "\n",
        "---\n",
        "\n",
        "Notebook to segment a 2D TIFF image using pre-trained Cellpose models (v2.2.2) [1].\n",
        "\n",
        "> The provided image will be segmented with all available models from the model zoo. The models will run with the same hyperparameters set by the user. Parameters are saved in a JSON file.\n",
        "\n",
        "---\n",
        "\n",
        "**Input**<br>\n",
        "- Path to the 2D TIFF file (shape: channels * X * Y)\n",
        "- Cellpose hyperparameters:\n",
        "\n",
        "        cyto_channel\n",
        "        nucleus_channel\n",
        "\n",
        "        diameter\n",
        "        flow_threshold\n",
        "        cellprob_threshold\n",
        "- `output_dir`: Output directory path\n",
        "- `pip_requirements_txt_path`: Path to the requirements.txt file for pip install. (optional. provide if the same dependencies are used as in the report.)\n",
        "---\n",
        "\n",
        "**Output**\n",
        "In `output_dir`:\n",
        "- Predicted segmentations (labels) from each model. Files are named: \"<model_type>_predictions.tiff\"\n",
        "- JSON file containing the meta data (input file path and cellpose hyperparameters).\n",
        "\n",
        "---\n",
        "\n",
        "**References**<br>\n",
        "1. Pachitariu, M., Stringer, C. Cellpose 2.0: how to train your own model. Nat Methods 19, 1634–1641 (2022). https://doi.org/10.1038/s41592-022-01663-4\n"
      ]
    },
    {
      "cell_type": "markdown",
      "metadata": {
        "id": "inhVVVQhYEn6"
      },
      "source": [
        "# Notebook initialisation\n",
        "Execute at the start of your run.\n",
        "\n",
        "**Input**\n",
        "- `mount_drive`: Whether to give access to files in your Drive.\n",
        "- `pip_requirements_path`: Path to the pip install requirements.txt file\n",
        "    - if mounted to the Drive, make sure the path starts with \"/content/gdrive/MyDrive/\"\n",
        "- `use_gpu`: Whether to run Cellpose on the GPU.\n",
        "    - To change hardware type: `Runtime` >> `Change runtime type` >> `Hardware accelerator`"
      ]
    },
    {
      "cell_type": "code",
      "execution_count": null,
      "metadata": {},
      "outputs": [],
      "source": [
        "#user input\n",
        "mount_drive = True #@{type: \"string\"}\n",
        "pip_requirements_path = \"\" #@param {type:\"string\"}\n",
        "use_gpu = True #@param {type:\"boolean\"}"
      ]
    },
    {
      "cell_type": "code",
      "execution_count": null,
      "metadata": {
        "id": "hWExQ2Kl2s-M"
      },
      "outputs": [],
      "source": [
        "#@markdown [mounting to Drive]\n",
        "if mount_drive:\n",
        "    from google.colab import drive\n",
        "    drive.mount('/content/gdrive')"
      ]
    },
    {
      "cell_type": "markdown",
      "metadata": {},
      "source": [
        "## pip install - cellpose v2.2.2"
      ]
    },
    {
      "cell_type": "code",
      "execution_count": null,
      "metadata": {
        "id": "1KGildG52sMX"
      },
      "outputs": [],
      "source": [
        "from datetime import datetime\n",
        "\n",
        "if len(pip_requirements_path) > 0:\n",
        "    print(f\"{datetime.now()}\\tInstalling Cellpose using a requirements.txt\")\n",
        "    !pip install -r \"$pip_requirements_path\"\n",
        "else:\n",
        "    print(f\"{datetime.now()}\\tInstalling Cellpose v2.2.2\")\n",
        "    !pip install cellpose==2.2.2\n",
        "print(f\"{datetime.now()}\\tFinished installing Cellpose\")"
      ]
    },
    {
      "cell_type": "markdown",
      "metadata": {},
      "source": [
        "## imports"
      ]
    },
    {
      "cell_type": "code",
      "execution_count": null,
      "metadata": {
        "id": "SJ4IjPXsRG1G"
      },
      "outputs": [],
      "source": [
        "#imports\n",
        "print(f\"{datetime.now()}\\Importing packages\")\n",
        "\n",
        "import os\n",
        "import json\n",
        "import datetime\n",
        "import matplotlib.pyplot as plt\n",
        "import numpy as np\n",
        "from PIL import Image\n",
        "import subprocess\n",
        "\n",
        "from cellpose.io import imread\n",
        "from cellpose import models\n",
        "cellpose_models =  models.MODEL_NAMES\n",
        "\n",
        "print(f\"{datetime.now()}\\tSuccesfully imported packages\")"
      ]
    },
    {
      "cell_type": "markdown",
      "metadata": {},
      "source": [
        "## custom functions"
      ]
    },
    {
      "cell_type": "code",
      "execution_count": null,
      "metadata": {},
      "outputs": [],
      "source": [
        "\n",
        "#custom functions\n",
        "def check_gpu_connection(use_gpu: bool) -> None:\n",
        "    \"\"\"Reports the details on GPU connection\n",
        "\n",
        "    Args:\n",
        "        use_gpu (bool): Whether to use the GPU for the script\n",
        "\n",
        "    Returns:\n",
        "        None\n",
        "    \"\"\"\n",
        "    class GPUConnectionError(Exception):\n",
        "        def __init__(self, message):\n",
        "            self.message = message\n",
        "\n",
        "    if not use_gpu:\n",
        "        print(\"GPU will not be used in this run as `use_gpu` \" +\n",
        "              f\"has been set to {use_gpu}\")\n",
        "        return None\n",
        "\n",
        "    try:\n",
        "        print(\"GPU connection requested:\\n--------\\n\")\n",
        "        subprocess.run([\"nvidia-smi\"], check=True)\n",
        "        !nvidia-smi\n",
        "    except FileNotFoundError:\n",
        "        raise GPUConnectionError(f\"`use_gpu` has been set to {use_gpu}. \"+\n",
        "               \"However, the notebook is not connected to a GPU.\"+\n",
        "               \"\\nPlease check the hardware type in the Colab Notebook \"+\n",
        "               \"settings.\")\n",
        "\n",
        "    return None\n",
        "\n",
        "def write_json(parameters: dict,\n",
        "               save_dir: str,\n",
        "               output_name: str,\n",
        "               overwrite=False,\n",
        "               verbose=True) -> str:\n",
        "    \"\"\"Write settings to a JSON file\n",
        "\n",
        "    Args:\n",
        "        parameters (dict): Settings to be written to the JSON file\n",
        "        save_dir (str): The directory path where the JSON file will be saved\n",
        "        overwrite (bool, optional): Overwrite if file exists. Default: False\n",
        "        verbose (bool, optional): Print verbose. Default: True\n",
        "\n",
        "    Returns:\n",
        "        str: The absolute path of the generated JSON file\n",
        "\n",
        "    Raises:\n",
        "        FileExistsError: If a file in `save_dir` already\n",
        "                         exists with `output_name` and `overwrite` is set to False\n",
        "    \"\"\"\n",
        "    if os.path.exists(save_dir) == False:\n",
        "      os.makedirs(save_dir)\n",
        "\n",
        "    json_path = os.path.join(save_dir, output_name)\n",
        "\n",
        "    if os.path.exists(json_path) and not overwrite:\n",
        "        raise FileExistsError(f\"File '{json_path}' exists and `overwrite` has\" +\n",
        "                              f\" been set to {overwrite}\")\n",
        "\n",
        "    with open(json_path, 'w') as outfile_obj:\n",
        "        json.dump(parameters, outfile_obj, indent=4)\n",
        "\n",
        "    if verbose:\n",
        "        print(f\"All settings written to {json_path}\")\n",
        "\n",
        "    return json_path\n",
        "\n",
        "def stacked(matrix):\n",
        "    \"\"\"Stack the channels of a image matrix\n",
        "\n",
        "    Args:\n",
        "        matrix (np.ndarray): image matrix (nChannels x nX x nY)\n",
        "    Returns:\n",
        "        np.ndarray: matrix representing the RGB format of an image (nX x nY)\n",
        "    \"\"\"\n",
        "    return np.dstack((matrix[0,:,:], matrix[1,:,:], matrix[2,:,:]))"
      ]
    },
    {
      "cell_type": "markdown",
      "metadata": {},
      "source": [
        "# GPU connection\n",
        "Check if GPU connection is established. The use of a GPU speeds up the model segmentation.\n"
      ]
    },
    {
      "cell_type": "code",
      "execution_count": null,
      "metadata": {},
      "outputs": [],
      "source": [
        "check_gpu_connection(use_gpu)"
      ]
    },
    {
      "cell_type": "markdown",
      "metadata": {
        "id": "RarRlDVreqVU"
      },
      "source": [
        "# Input files\n",
        "\n",
        "- `input_img_path` (str) - path to the image to segment (shape: channel * X * Y)"
      ]
    },
    {
      "cell_type": "code",
      "execution_count": null,
      "metadata": {
        "cellView": "form",
        "id": "mIDfTakMeu3F"
      },
      "outputs": [],
      "source": [
        "#@markdown **Provide the absolute path to the test slice.**\n",
        "input_img_path = \"\" #@param {type:\"string\"}\n",
        "input_img_path = os.path.join(input_img_path, \"\")[:-1]\n",
        "\n",
        "#@markdown **Provide the path to the main output directory**\n",
        "output_dir = \"\" #@param {type:\"string\"}\n",
        "output_dir = os.path.join(output_dir, \"\")\n",
        "\n",
        "#@markdown [code: plot slice and channels]\n",
        "input_img = imread(input_img_path) #shape: nChannels x nX x nY\n",
        "print(\"Image has been stored in `input_img`\")\n",
        "\n",
        "#plot channels and merged slice\n",
        "nchannels = input_img.shape[0]\n",
        "\n",
        "y=7\n",
        "figsize = (nchannels*y, y)\n",
        "nplots = nchannels+1\n",
        "rgb = {0:\"Red\", 1:\"Green\", 2:\"Blue\"}\n",
        "\n",
        "fig, axes = plt.subplots(1, nplots, figsize=figsize)\n",
        "\n",
        "for i in range(nplots-1):\n",
        "    axes[i].imshow(input_img[i,:,:], cmap=plt.cm.gray)\n",
        "    axes[i].axis(False)\n",
        "    axes[i].set_title(f\"Channel {i+1} ({rgb[i]})\")\n",
        "\n",
        "axes[nplots-1].imshow(stacked(input_img))\n",
        "axes[nplots-1].axis(False)\n",
        "axes[nplots-1].set_title(\"Merged\");"
      ]
    },
    {
      "cell_type": "markdown",
      "metadata": {
        "id": "RhF-tYG0fSrF"
      },
      "source": [
        "# Cellpose model hyperparameters\n",
        "Official documentation:\n",
        "https://cellpose.readthedocs.io/en/v1.0.2/settings.html#\n",
        "\n",
        "- `cyto_channel` (int) - ID of channel (1-based) to use for cellular segmentation (e.g. cytoplasm/membrane staining). Set to `0` if all channels should be used (i.e. composite greyscale img.)\n",
        "\n",
        "- `nucleus_channel` (int) - optional. ID of channel (1-based) to use as nuclear channel - markers for separate cells; improves segmentation of cells. \n",
        "\n",
        "- `diameter` (float) - Mean diameter of the cells.\n",
        "\n",
        "> Author's note: I recommend manually inspecting the diameter using the Cellpose GUI. Cellpose documentation states automated diameter estimation can be activated via `diameter = None`, but this does not seem to work properly in this notebook.\n",
        "\n",
        "- `flow_threshold` (float) - Maximum allowed error of the flows for each mask. (See official documentation.)\n",
        "\n",
        "> Increase if model does not detect many cells. Decrease if model returns too many / odd-shaped cells.\n",
        "\n",
        "- `cellprob_threshold` (float) - Minimum certainty the model has in its mask prediction. (See official documentation.)\n",
        "\n",
        "> Decrease if model does not detect many cells. Increase if model picks up too much background noise."
      ]
    },
    {
      "cell_type": "code",
      "execution_count": null,
      "metadata": {
        "cellView": "form",
        "id": "BKqMyjKifVXl"
      },
      "outputs": [],
      "source": [
        "#@markdown **Specify model parameters.**\n",
        "cyto_channel = 2 #@param {type:\"number\"}\n",
        "nucleus_channel = 0 #@param {type:\"number\"}\n",
        "\n",
        "diameter=None#@param {type:\"raw\"}\n",
        "flow_threshold=0.4 #@param {type:\"slider\", min:0, max:1, step:0.01}\n",
        "cellprob_threshold=0 #@param {type:\"slider\", min:0, max:1, step:0.01}\n",
        "\n",
        "#code\n",
        "channels = [cyto_channel,nucleus_channel]"
      ]
    },
    {
      "cell_type": "markdown",
      "metadata": {
        "id": "uSkPsTZyoD9Y"
      },
      "source": [
        "# Write to JSON\n",
        "A JSON file with the run settings (img path, shape, and model parameters) will be created (\".settings.JSON\" in the provided output directory)."
      ]
    },
    {
      "cell_type": "code",
      "execution_count": null,
      "metadata": {
        "cellView": "form",
        "id": "ahSVtQzZoDvA"
      },
      "outputs": [],
      "source": [
        "#@markdown [code: write to JSON]\n",
        "parameters = {\n",
        "    \"input_files\": {\n",
        "        \"input_img_path\" : input_img_path,\n",
        "        \"input_img_shape\" : input_img.shape\n",
        "    },\n",
        "    \"cellpose_parameters\": {\n",
        "        \"use_gpu\" : use_gpu,\n",
        "        \"cyto_channel\" : cyto_channel,\n",
        "        \"nucleus_channel\" : nucleus_channel,\n",
        "        \"diameter\" : diameter,\n",
        "        \"flow_threshold\" : flow_threshold,\n",
        "        \"cellprob_threshold\" : cellprob_threshold\n",
        "    }\n",
        "}\n",
        "\n",
        "_ = write_json(parameters=parameters,\n",
        "               save_dir=output_dir,\n",
        "               output_name=\".settings.JSON\",\n",
        "               overwrite=True,\n",
        "               verbose=True)"
      ]
    },
    {
      "cell_type": "markdown",
      "metadata": {
        "id": "tehZ_95FqSJP"
      },
      "source": [
        "# Running the Cellpose2D models\n",
        "\n",
        "**Output**<br>\n",
        "In the output directory: `<model_type>_predictions.tiff` for each model from the zoo.<br>\n",
        "- label matrix, where each integer represents a separate segmentation. (0 = bg)"
      ]
    },
    {
      "cell_type": "code",
      "execution_count": null,
      "metadata": {},
      "outputs": [],
      "source": [
        "#show settings\n",
        "print(\"using settings:\")\n",
        "print(parameters)"
      ]
    },
    {
      "cell_type": "code",
      "execution_count": null,
      "metadata": {
        "id": "8e64Lr4kqTtc"
      },
      "outputs": [],
      "source": [
        "#@markdown [code: running the models]\n",
        "print(f\"{datetime.datetime.now()}\\tPre-trained models: {cellpose_models}\")\n",
        "if input(\"continue? (y/n)\") != 'y':\n",
        "    raise ValueError(\"Input was not `y`. Models will not run.\")\n",
        "\n",
        "#running .eval\n",
        "for model_type in cellpose_models:\n",
        "    print(f\"{datetime.datetime.now()}\\tRunning {model_type}\")\n",
        "    model = models.CellposeModel(gpu=use_gpu, model_type=model_type, net_avg = True)\n",
        "\n",
        "    # run model\n",
        "    masks, flows, styles = model.eval(input_img,\n",
        "                                    diameter=diameter,\n",
        "                                    flow_threshold=flow_threshold,\n",
        "                                    cellprob_threshold=cellprob_threshold,\n",
        "                                    channels=channels)\n",
        "    print(len(np.unique(masks)))\n",
        "\n",
        "    #store results\n",
        "    filename = f\"{output_dir}{model_type}_predictions.tiff\"\n",
        "    matrix_file = Image.fromarray(masks)\n",
        "    matrix_file.save(filename)\n",
        "\n",
        "    print(f\"{datetime.datetime.now()}\\tFinished running {model_type}. Predictions stored under {filename}\")"
      ]
    }
  ],
  "metadata": {
    "accelerator": "GPU",
    "colab": {
      "gpuType": "T4",
      "provenance": []
    },
    "kernelspec": {
      "display_name": "Python 3",
      "name": "python3"
    },
    "language_info": {
      "name": "python"
    }
  },
  "nbformat": 4,
  "nbformat_minor": 0
}

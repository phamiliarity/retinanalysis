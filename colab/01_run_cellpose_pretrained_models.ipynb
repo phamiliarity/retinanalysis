{
  "nbformat": 4,
  "nbformat_minor": 0,
  "metadata": {
    "colab": {
      "provenance": [],
      "toc_visible": true,
      "machine_shape": "hm",
      "gpuType": "A100"
    },
    "kernelspec": {
      "name": "python3",
      "display_name": "Python 3"
    },
    "language_info": {
      "name": "python"
    },
    "accelerator": "GPU"
  },
  "cells": [
    {
      "cell_type": "markdown",
      "source": [
        "# Description\n",
        "*author:* Vina My Pham<br>\n",
        "*supervisor:* Robin van der Weide<br>\n",
        "*project:* MSc internship project<br>\n",
        "<br>\n",
        "*date:* January 15 - July 19, 2024<br>\n",
        "*host:* Kind group, Hubrecht Institute<br>\n",
        "*university:* Bioinformatics, Wageningen University & Research<br>\n",
        "\n",
        "---\n",
        "\n",
        "**[flowchart: 00_flowchart.svg]**\n",
        "\n",
        "Notebook to run pre-trained Cellpose models (v2.2.2) [1] on an image.<br>\n",
        "Settings are written to a JSON file (\".settings.json\")\n",
        "\n",
        "---\n",
        "\n",
        "**References**<br>\n",
        "1. Pachitariu, M., Stringer, C. Cellpose 2.0: how to train your own model. Nat Methods 19, 1634–1641 (2022). https://doi.org/10.1038/s41592-022-01663-4\n"
      ],
      "metadata": {
        "id": "5Pcq3axf9hHw"
      }
    },
    {
      "cell_type": "markdown",
      "source": [
        "# Notebook initialisation\n",
        "This block contains the required code for running the notebook.<br>\n",
        "Run this block before anything else.\n",
        "\n",
        "## Select settings\n",
        "- `mount_drive`: Whether to give access to files in your Drive.\n",
        "- `pip_requirements_path`:\n",
        "    - if mounted to the Drive, make sure the path starts with \"/content/gdrive/MyDrive/\"\n",
        "- `use_gpu`: Whether to run Cellpose on the GPU.\n",
        "    - To change hardware type: `Runtime` >> `Change runtime type` >> `Hardware accelerator`"
      ],
      "metadata": {
        "id": "inhVVVQhYEn6"
      }
    },
    {
      "cell_type": "code",
      "source": [
        "mount_drive = True #@param {type:\"boolean\"}\n",
        "pip_requirements_path = \"\" #@param {type:\"string\"}\n",
        "use_gpu = True #@param {type:\"boolean\"}\n",
        "\n",
        "#@markdown [code: mounting drive, pip install, and module imports]\n",
        "if mount_drive:\n",
        "  from google.colab import drive\n",
        "  drive.mount('/content/gdrive')\n",
        "\n",
        "#installing cellpose and dependencies\n",
        "import subprocess\n",
        "subprocess.run(['apt-get', 'install', '-y', 'libcairo2-dev'], check=True)\n",
        "subprocess.run(['pip', 'install', '-r', pip_requirements_path], check=True)\n",
        "print(\"Succesfully installed requirements with pip\")\n",
        "\n",
        "#imports\n",
        "import os\n",
        "import json\n",
        "import datetime\n",
        "import matplotlib.pyplot as plt\n",
        "import numpy as np\n",
        "\n",
        "from cellpose.io import imread\n",
        "from cellpose import models\n",
        "cellpose_models =  models.MODEL_NAMES\n",
        "print(\"Succesfully installed requirements with pip\")\n",
        "\n",
        "#custom functions\n",
        "def check_gpu_connection(use_gpu: bool) -> None:\n",
        "    \"\"\"Reports the details on GPU connection\n",
        "\n",
        "    Args:\n",
        "        use_gpu (bool): Whether to use the GPU for the script\n",
        "\n",
        "    Returns:\n",
        "        None\n",
        "    \"\"\"\n",
        "    class GPUConnectionError(Exception):\n",
        "        def __init__(self, message):\n",
        "            self.message = message\n",
        "\n",
        "    if not use_gpu:\n",
        "        print(\"GPU will not be used in this run as `use_gpu` \" +\n",
        "              f\"has been set to {use_gpu}\")\n",
        "        return None\n",
        "\n",
        "    try:\n",
        "        print(\"GPU connection requested:\\n--------\\n\")\n",
        "        subprocess.run([\"nvidia-smi\"], check=True)\n",
        "        !nvidia-smi\n",
        "    except FileNotFoundError:\n",
        "        raise GPUConnectionError(f\"`use_gpu` has been set to {use_gpu}. \"+\n",
        "               \"However, the notebook is not connected to a GPU.\"+\n",
        "               \"\\nPlease check the hardware type in the Colab Notebook \"+\n",
        "               \"settings.\")\n",
        "\n",
        "    return None\n",
        "\n",
        "def write_json(parameters: dict,\n",
        "               save_dir: str,\n",
        "               output_name: str,\n",
        "               overwrite=False,\n",
        "               verbose=True) -> str:\n",
        "    \"\"\"Write settings to a JSON file\n",
        "\n",
        "    Args:\n",
        "        parameters (dict): Settings to be written to the JSON file\n",
        "        save_dir (str): The directory path where the JSON file will be saved\n",
        "        overwrite (bool, optional): Overwrite if file exists. Default: False\n",
        "        verbose (bool, optional): Print verbose. Default: True\n",
        "\n",
        "    Returns:\n",
        "        str: The absolute path of the generated JSON file\n",
        "\n",
        "    Raises:\n",
        "        FileExistsError: If a file in `save_dir` already\n",
        "                         exists with `output_name` and `overwrite` is set to False\n",
        "    \"\"\"\n",
        "    if os.path.exists(save_dir) == False:\n",
        "      os.makedirs(save_dir)\n",
        "\n",
        "    json_path = os.path.join(save_dir, output_name)\n",
        "\n",
        "    if os.path.exists(json_path) and not overwrite:\n",
        "        raise FileExistsError(f\"File '{json_path}' exists and `overwrite` has\" +\n",
        "                              f\" been set to {overwrite}\")\n",
        "\n",
        "    with open(json_path, 'w') as outfile_obj:\n",
        "        json.dump(parameters, outfile_obj, indent=4)\n",
        "\n",
        "    if verbose:\n",
        "        print(f\"All settings written to {json_path}\")\n",
        "\n",
        "    return json_path\n",
        "\n",
        "def stacked(matrix):\n",
        "    \"\"\"Stack the channels of a image matrix\n",
        "\n",
        "    Args:\n",
        "        matrix (np.ndarray): image matrix (nChannels x nX x nY)\n",
        "    Returns:\n",
        "        np.ndarray: matrix representing the RGB format of an image (nX x nY)\n",
        "    \"\"\"\n",
        "    return np.dstack((matrix[0,:,:], matrix[1,:,:], matrix[2,:,:]))\n",
        "\n",
        "#check GPU connection\n",
        "check_gpu_connection(True)"
      ],
      "metadata": {
        "id": "SJ4IjPXsRG1G"
      },
      "execution_count": null,
      "outputs": []
    },
    {
      "cell_type": "markdown",
      "source": [
        "# Input files"
      ],
      "metadata": {
        "id": "RarRlDVreqVU"
      }
    },
    {
      "cell_type": "code",
      "source": [
        "#@markdown **Provide the absolute path to the test slice.**\n",
        "test_slice_path = \"/content/gdrive/MyDrive/msc-internship_HI_2024_vmp/00_raw_data/nuclei_analysis/golden_standard/golden_standard_img.tif\" #@param {type:\"string\"}\n",
        "test_slice_path = os.path.join(test_slice_path, \"\")[:-1]\n",
        "\n",
        "#@markdown **Provide the path to the main output directory**\n",
        "output_dir = \"/content/gdrive/MyDrive/msc-internship_HI_2024_vmp/02_results/01_run-modelzoo/run20240322\" #@param {type:\"string\"}\n",
        "output_dir = os.path.join(output_dir, \"\")\n",
        "\n",
        "#@markdown [code: plot slice and channels]\n",
        "test_slice = imread(test_slice_path) #shape: nChannels x nX x nY\n",
        "print(\"Image has been stored in `test_slice`\")\n",
        "\n",
        "#plot channels and merged slice\n",
        "nchannels = test_slice.shape[0]\n",
        "\n",
        "y=7\n",
        "figsize = (nchannels*y, y)\n",
        "nplots = nchannels+1\n",
        "rgb = {0:\"Red\", 1:\"Green\", 2:\"Blue\"}\n",
        "\n",
        "fig, axes = plt.subplots(1, nplots, figsize=figsize)\n",
        "\n",
        "for i in range(nplots-1):\n",
        "    axes[i].imshow(test_slice[i,:,:], cmap=plt.cm.gray)\n",
        "    axes[i].axis(False)\n",
        "    axes[i].set_title(f\"Channel {i+1} ({rgb[i]})\")\n",
        "\n",
        "axes[nplots-1].imshow(stacked(test_slice))\n",
        "axes[nplots-1].axis(False)\n",
        "axes[nplots-1].set_title(\"Merged\");"
      ],
      "metadata": {
        "cellView": "form",
        "id": "mIDfTakMeu3F"
      },
      "execution_count": null,
      "outputs": []
    },
    {
      "cell_type": "markdown",
      "source": [
        "# Cellpose model hyperparameters"
      ],
      "metadata": {
        "id": "RhF-tYG0fSrF"
      }
    },
    {
      "cell_type": "code",
      "source": [
        "#@markdown **Specify model parameters.**\n",
        "cyto_channel = 2 #@param {type:\"number\"}\n",
        "nucleus_channel = 0 #@param {type:\"number\"}\n",
        "\n",
        "diameter=30 #@param {type:\"number\"}\n",
        "flow_threshold=0.4 #@param {type:\"slider\", min:0, max:1, step:0.01}\n",
        "cellprob_threshold=0 #@param {type:\"slider\", min:0, max:1, step:0.01}\n",
        "\n",
        "#code\n",
        "channels = [cyto_channel,nucleus_channel]"
      ],
      "metadata": {
        "cellView": "form",
        "id": "BKqMyjKifVXl"
      },
      "execution_count": null,
      "outputs": []
    },
    {
      "cell_type": "markdown",
      "source": [
        "# Write to JSON"
      ],
      "metadata": {
        "id": "uSkPsTZyoD9Y"
      }
    },
    {
      "cell_type": "code",
      "source": [
        "#@markdown [code: write to JSON]\n",
        "parameters = {\n",
        "    \"input_files\": {\n",
        "        \"test_slice_path\" : test_slice_path,\n",
        "        \"test_slice_shape\" : test_slice.shape\n",
        "    },\n",
        "    \"cellpose_parameters\": {\n",
        "        \"use_gpu\" : use_gpu,\n",
        "        \"cyto_channel\" : cyto_channel,\n",
        "        \"nucleus_channel\" : nucleus_channel,\n",
        "        \"diameter\" : diameter,\n",
        "        \"flow_threshold\" : flow_threshold,\n",
        "        \"cellprob_threshold\" : cellprob_threshold\n",
        "    }\n",
        "}\n",
        "\n",
        "_ = write_json(parameters=parameters,\n",
        "               save_dir=output_dir,\n",
        "               output_name=\".settings.JSON\",\n",
        "               overwrite=True,\n",
        "               verbose=True)"
      ],
      "metadata": {
        "cellView": "form",
        "id": "ahSVtQzZoDvA"
      },
      "execution_count": null,
      "outputs": []
    },
    {
      "cell_type": "markdown",
      "source": [
        "# Running the Cellpose models"
      ],
      "metadata": {
        "id": "tehZ_95FqSJP"
      }
    },
    {
      "cell_type": "code",
      "source": [
        "#@markdown [code: running the models]\n",
        "print(f\"{datetime.datetime.now()}\\tPre-trained models: {cellpose_models}\")\n",
        "if input(\"continue? (y/n)\") != 'y':\n",
        "    raise ValueError(\"Input was not `y`. Models will not run.\")\n",
        "\n",
        "#running .eval\n",
        "for model_type in cellpose_models:\n",
        "    print(f\"{datetime.datetime.now()}\\tRunning {model_type}\")\n",
        "    model = models.CellposeModel(gpu=use_gpu, model_type=model_type, net_avg = True)\n",
        "\n",
        "    # run model\n",
        "    masks, flows, styles = model.eval(test_slice,\n",
        "                                    diameter=diameter,\n",
        "                                    flow_threshold=flow_threshold,\n",
        "                                    cellprob_threshold=cellprob_threshold,\n",
        "                                    channels=channels)\n",
        "    #store results\n",
        "    filename = f\"{output_dir}{model_type}_predictions.tiff\"\n",
        "    plt.imsave(filename, masks)\n",
        "\n",
        "    print(f\"{datetime.datetime.now()}\\tFinished running {model_type}. Predictions stored under {filename}\")"
      ],
      "metadata": {
        "cellView": "form",
        "id": "8e64Lr4kqTtc"
      },
      "execution_count": null,
      "outputs": []
    }
  ]
}
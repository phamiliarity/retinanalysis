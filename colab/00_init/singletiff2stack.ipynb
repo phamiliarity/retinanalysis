{
  "cells": [
    {
      "cell_type": "markdown",
      "metadata": {
        "id": "5Pcq3axf9hHw"
      },
      "source": [
        "# Description\n",
        "*author:* Vina My Pham<br>\n",
        "*supervisor:* Robin van der Weide<br>\n",
        "*project:* MSc internship project<br>\n",
        "<br>\n",
        "*date:* January 15 - July 19, 2024<br>\n",
        "*host:* Kind group, Hubrecht Institute<br>\n",
        "*university:* Bioinformatics, Wageningen University & Research<br>\n",
        "\n",
        "---\n",
        "Notebook to generate one stack file from multiple single planes (TIF format).\n",
        "\n",
        "Input:\n",
        "- path to directory containing the plane files of one stack.\n",
        "\n",
        "Output:\n",
        "- TIF file of dimensions `Z * X * Y` or `Z * X * Y * CHANNELS`.\n",
        "    (Z: planes)\n"
      ]
    },
    {
      "cell_type": "markdown",
      "metadata": {
        "id": "noEETmsMp7on"
      },
      "source": [
        "# Converting TIFs to a multiplane TIF file"
      ]
    },
    {
      "cell_type": "code",
      "execution_count": null,
      "metadata": {},
      "outputs": [],
      "source": [
        "import os, tifffile\n",
        "from google.colab import drive\n",
        "drive.mount('/content/gdrive')"
      ]
    },
    {
      "cell_type": "code",
      "execution_count": null,
      "metadata": {
        "id": "Juc3784RrIIO"
      },
      "outputs": [],
      "source": [
        "#@markdown `def singletiffs2stack()`\n",
        "def singletiffs2stack(input_filepaths, output_filepath):\n",
        "    \"\"\"Converts individual images into one stack (TIFF format)\n",
        "\n",
        "    Args:\n",
        "        input_filepaths (list of str): absolute file paths of the individual\n",
        "                                       image files in correct order\n",
        "        output_filename (str): absolute path of output stack TIF file\n",
        "    Returns:\n",
        "        str - absolute path of output stack TIF file\n",
        "\n",
        "    Note:\n",
        "        - edited code from https://stackoverflow.com/questions/47248065/creating-a-tiff-stack-from-individual-tiffs-in-python\n",
        "        - Dimensions of saved stack: nplanes x nY x nX x nchannels\n",
        "    \"\"\"\n",
        "    if not output_filepath.endswith(\".tif\") and not output_filepath.endswith(\".tiff\"):\n",
        "        output_filepath = output_filepath + \".tif\"\n",
        "\n",
        "    with tifffile.TiffWriter(output_filepath) as stack:\n",
        "        for filename in input_filepaths:\n",
        "            stack.save(\n",
        "                tifffile.imread(filename),\n",
        "                contiguous=True)\n",
        "\n",
        "    print(f\"Stack file saved as `{output_filepath}`\")\n",
        "    return output_filepath"
      ]
    },
    {
      "cell_type": "code",
      "execution_count": null,
      "metadata": {
        "cellView": "form",
        "colab": {
          "base_uri": "https://localhost:8080/"
        },
        "id": "DFUYYFc7p6hv",
        "outputId": "cb8a2f2d-e1f2-4f53-ea06-974ee491db7d"
      },
      "outputs": [
        {
          "name": "stdout",
          "output_type": "stream",
          "text": [
            "/content/gdrive/MyDrive/msc-internship_HI_2024_vmp/00_raw_data/full_zstacks/SPE_20240216_D35_DAPI-LaminB1-LaminAC.tif\n",
            "28 files found in /content/SPE_20240216_D35_DAPI-LaminB1-LaminAC/.\n",
            "\t28 files found with file extension `.tiff`.\n",
            "\tPreview:\n",
            "\t\tSPE_20240216_D35_DAPI-LaminB1-LaminAC_Z17.tiff\n",
            "\t\tSPE_20240216_D35_DAPI-LaminB1-LaminAC_Z10.tiff\n",
            "\t\tSPE_20240216_D35_DAPI-LaminB1-LaminAC_Z04.tiff\n",
            "\t\tSPE_20240216_D35_DAPI-LaminB1-LaminAC_Z09.tiff\n",
            "\t\tSPE_20240216_D35_DAPI-LaminB1-LaminAC_Z22.tiff\n",
            "/content/SPE_20240216_D35_DAPI-LaminB1-LaminAC//SPE_20240216_D35_DAPI-LaminB1-LaminAC_Z00.tiff\n",
            "/content/SPE_20240216_D35_DAPI-LaminB1-LaminAC//SPE_20240216_D35_DAPI-LaminB1-LaminAC_Z01.tiff\n",
            "/content/SPE_20240216_D35_DAPI-LaminB1-LaminAC//SPE_20240216_D35_DAPI-LaminB1-LaminAC_Z02.tiff\n",
            "/content/SPE_20240216_D35_DAPI-LaminB1-LaminAC//SPE_20240216_D35_DAPI-LaminB1-LaminAC_Z03.tiff\n",
            "/content/SPE_20240216_D35_DAPI-LaminB1-LaminAC//SPE_20240216_D35_DAPI-LaminB1-LaminAC_Z04.tiff\n",
            "/content/SPE_20240216_D35_DAPI-LaminB1-LaminAC//SPE_20240216_D35_DAPI-LaminB1-LaminAC_Z05.tiff\n",
            "/content/SPE_20240216_D35_DAPI-LaminB1-LaminAC//SPE_20240216_D35_DAPI-LaminB1-LaminAC_Z06.tiff\n",
            "/content/SPE_20240216_D35_DAPI-LaminB1-LaminAC//SPE_20240216_D35_DAPI-LaminB1-LaminAC_Z07.tiff\n",
            "/content/SPE_20240216_D35_DAPI-LaminB1-LaminAC//SPE_20240216_D35_DAPI-LaminB1-LaminAC_Z08.tiff\n",
            "/content/SPE_20240216_D35_DAPI-LaminB1-LaminAC//SPE_20240216_D35_DAPI-LaminB1-LaminAC_Z09.tiff\n",
            "/content/SPE_20240216_D35_DAPI-LaminB1-LaminAC//SPE_20240216_D35_DAPI-LaminB1-LaminAC_Z10.tiff\n",
            "/content/SPE_20240216_D35_DAPI-LaminB1-LaminAC//SPE_20240216_D35_DAPI-LaminB1-LaminAC_Z11.tiff\n",
            "/content/SPE_20240216_D35_DAPI-LaminB1-LaminAC//SPE_20240216_D35_DAPI-LaminB1-LaminAC_Z12.tiff\n",
            "/content/SPE_20240216_D35_DAPI-LaminB1-LaminAC//SPE_20240216_D35_DAPI-LaminB1-LaminAC_Z13.tiff\n",
            "/content/SPE_20240216_D35_DAPI-LaminB1-LaminAC//SPE_20240216_D35_DAPI-LaminB1-LaminAC_Z14.tiff\n",
            "/content/SPE_20240216_D35_DAPI-LaminB1-LaminAC//SPE_20240216_D35_DAPI-LaminB1-LaminAC_Z15.tiff\n",
            "/content/SPE_20240216_D35_DAPI-LaminB1-LaminAC//SPE_20240216_D35_DAPI-LaminB1-LaminAC_Z16.tiff\n",
            "/content/SPE_20240216_D35_DAPI-LaminB1-LaminAC//SPE_20240216_D35_DAPI-LaminB1-LaminAC_Z17.tiff\n",
            "/content/SPE_20240216_D35_DAPI-LaminB1-LaminAC//SPE_20240216_D35_DAPI-LaminB1-LaminAC_Z18.tiff\n",
            "/content/SPE_20240216_D35_DAPI-LaminB1-LaminAC//SPE_20240216_D35_DAPI-LaminB1-LaminAC_Z19.tiff\n",
            "/content/SPE_20240216_D35_DAPI-LaminB1-LaminAC//SPE_20240216_D35_DAPI-LaminB1-LaminAC_Z20.tiff\n",
            "/content/SPE_20240216_D35_DAPI-LaminB1-LaminAC//SPE_20240216_D35_DAPI-LaminB1-LaminAC_Z21.tiff\n",
            "/content/SPE_20240216_D35_DAPI-LaminB1-LaminAC//SPE_20240216_D35_DAPI-LaminB1-LaminAC_Z22.tiff\n",
            "/content/SPE_20240216_D35_DAPI-LaminB1-LaminAC//SPE_20240216_D35_DAPI-LaminB1-LaminAC_Z23.tiff\n",
            "/content/SPE_20240216_D35_DAPI-LaminB1-LaminAC//SPE_20240216_D35_DAPI-LaminB1-LaminAC_Z24.tiff\n",
            "/content/SPE_20240216_D35_DAPI-LaminB1-LaminAC//SPE_20240216_D35_DAPI-LaminB1-LaminAC_Z25.tiff\n",
            "/content/SPE_20240216_D35_DAPI-LaminB1-LaminAC//SPE_20240216_D35_DAPI-LaminB1-LaminAC_Z26.tiff\n",
            "/content/SPE_20240216_D35_DAPI-LaminB1-LaminAC//SPE_20240216_D35_DAPI-LaminB1-LaminAC_Z27.tiff\n"
          ]
        }
      ],
      "source": [
        "#@markdown **Absolute path - input images directory**\n",
        "img_dir = \"/content/SPE_20240216_D35_DAPI-LaminB1-LaminAC\" #@param {type:\"string\"}\n",
        "img_dir = os.path.join(img_dir, \"\")\n",
        "img_suffix = \".tiff\" #@param {type:\"string\"}\n",
        "\n",
        "#@markdown **Absolute path - output file**\n",
        "outdir = \"/content/gdrive/MyDrive/msc-internship_HI_2024_vmp/00_raw_data/full_zstacks/\" #@param {type:\"string\"}\n",
        "output_filepath = outdir + f\"{img_dir.split('/')[-2]}.tif\"\n",
        "print(output_filepath)\n",
        "if len(img_dir) == 0:\n",
        "    raise IOError(\"No directory path has been provided. Please provide a path for `img_dir`\")\n",
        "\n",
        "all_files = os.listdir(img_dir)\n",
        "files_with_suffix = [file_name for file_name in os.listdir(img_dir) if file_name.endswith(img_suffix)]\n",
        "print(f\"{len(all_files)} files found in {img_dir}.\")\n",
        "print(f\"\\t{len(files_with_suffix)} files found with file extension `{img_suffix}`.\")\n",
        "print(f\"\\tPreview:\")\n",
        "for file_name in files_with_suffix[:5]:\n",
        "    print(f\"\\t\\t{file_name}\")\n",
        "\n",
        "#@markdown [code: `singletiffs2stack()`]\n",
        "inputfile_paths = [f\"{img_dir}/{file_name}\" for file_name in files_with_suffix]\n",
        "\n",
        "sort_in_alphabetical_order = True #@param {type: \"boolean\"}\n",
        "if sort_in_alphabetical_order:\n",
        "    inputfile_paths = sorted(inputfile_paths)\n",
        "\n",
        "#@markdown *block prints the file names*\n",
        "print('\\n'.join(inputfile_paths))"
      ]
    },
    {
      "cell_type": "markdown",
      "metadata": {
        "id": "td_QKCDfEKxS"
      },
      "source": [
        "run code below if files are correct."
      ]
    },
    {
      "cell_type": "code",
      "execution_count": null,
      "metadata": {
        "colab": {
          "base_uri": "https://localhost:8080/"
        },
        "id": "8a-Hbj4lqWRu",
        "outputId": "c561a3c4-d0ee-43af-d5cc-9c41648aaf8e"
      },
      "outputs": [
        {
          "name": "stderr",
          "output_type": "stream",
          "text": [
            "<ipython-input-23-9cd9affdf78a>:21: DeprecationWarning: <tifffile.TiffWriter.save> is deprecated. Use TiffWriter.write\n",
            "  stack.save(\n"
          ]
        },
        {
          "name": "stdout",
          "output_type": "stream",
          "text": [
            "Stack file saved as `/content/gdrive/MyDrive/msc-internship_HI_2024_vmp/00_raw_data/full_zstacks/SPE_20240216_D35_DAPI-LaminB1-LaminAC.tif`\n"
          ]
        }
      ],
      "source": [
        "stack_path = singletiffs2stack(inputfile_paths, output_filepath)"
      ]
    }
  ],
  "metadata": {
    "colab": {
      "provenance": []
    },
    "kernelspec": {
      "display_name": "Python 3",
      "name": "python3"
    },
    "language_info": {
      "name": "python"
    }
  },
  "nbformat": 4,
  "nbformat_minor": 0
}
